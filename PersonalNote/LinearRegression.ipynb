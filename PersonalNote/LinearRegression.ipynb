{
 "cells": [
  {
   "cell_type": "markdown",
   "metadata": {},
   "source": [
    "# Linear Regression Codes"
   ]
  },
  {
   "cell_type": "markdown",
   "metadata": {},
   "source": [
    "## STEPS \n",
    "1. General information about the data\n",
    "    - `data.info()`\n",
    "2. Descritive Statistics of the data\n",
    "    - `data.describe()`\n",
    "    - >여기선 **어느정도 팩트체크 필요**, 뽑혀진 각 variable들의 scale들을 보면서, 이게 정말 말이 되는지 논리/사고적으로 한번 짚고 넘어갈것\n",
    "    - > 예를들어, 75% 구간과 Max구간의 차이를 확인. 0 - 25 - 50 - 75- 100 이 구간이 일정해야하는데, 간혹 75 - 100 구간에서 훅 뛸때가 있음. outlier의 가능성을 나타냄\n",
    "3. See entire picture of the data -- correlation \n",
    "    - `sns.pairplot(data)`\n",
    "    - **check ML class**\n",
    "4. Check and Drop unneccesary Columns\n",
    "    - Text Column 들은 주의깊게 확인\n",
    "    - `data.drop([\"column1\",\"column2\"], axis = 1, inplace =True)`\n",
    "5. Train/Test Set Split\n",
    "    - `sklearn.model_selection import train_test_split`\n",
    "    - `X_train, X_test, y_train, y_test = train_test_split(X, y, test_size = 0.3, random_state=100)`\n",
    "    -  이전에, 알맞은 Column(들)을 y 와 X에 지정해줄것\n",
    "    - >  random_state 는 랜덤값을 고정시켜주는것. 저 숫자가 아무숫자나 써도되는데, 각 숫자별로 정해져있는 랜덤 distribution이 있음. 그렇기에 같은 결과값을 유지하고싶을때 많이 쓰임\n",
    "6. Start Modeling\n",
    "    - **Fast Campus uses following codes**\n",
    "        - `import statsmodels.api as sm`\n",
    "        - `lm = sm.OLS(y_train, X_train).fit()`\n",
    "        - `lm.summary()` --> giving you **GREAT** the summary (이 리그레션 레포트를 보는것), Sklearn **DOES NOT**\n",
    "7. Prediction\n",
    "    - **Fast Campus uses following codes**\n",
    "        - `predictions = lm.predict(X_test)`     \n",
    "8. Visualization\n",
    "    - `sns.scatterplot(y_test,predictions)`\n",
    "9. Evaluation\n",
    "    - **Fast Campus uses following codes**\n",
    "        - `from sklearn import metrics`\n",
    "        - `MSE = metrics.mean_squared_error(y_test, predictions)`\n",
    "        - `RMSE = np.sqrt(MSE)`\n",
    "    - > MSE 자체만으론 그 model의 performance를 알수없음. MSE는 어디까지나 비교대상으로, 다른 model 들의 MSE들을 **비교**했을시, 더 적은 MSE가 더 좋은 Model 이다 정도로 정리 가능. 즉,**상대적인 수치** 임. \n",
    "    - > RMSE 는 좀더 축소화 버전 (re-scaling)이라고 생각하면됨\n",
    "    \n",
    "    "
   ]
  },
  {
   "cell_type": "markdown",
   "metadata": {},
   "source": [
    "##  Theory and Definition\n",
    "\n",
    "1. R_Squared\n",
    "    > 보통, 평균에 비해 얼마나 잘했느냐 못했느냐가 가장 보편적인 비교의 척도임\n",
    "    한마디로 R_Squared는, 우리가 평균을 기준으로 얼마나 잘 설명했느냐 를 말해주는것. \n",
    "    실제 data point와 평균의 차이가 우리가 갖고있는 전체적인 error. \n",
    "    근데 그 total error중에서, 우리의 model이 얼마나 이를 평균기준 개선시켰느냐 \n",
    "    이것을 말해주는것이다."
   ]
  },
  {
   "cell_type": "markdown",
   "metadata": {},
   "source": [
    "\t```\n",
    "{\n",
    "  \"firstName\": \"John\",\n",
    "  \"lastName\": \"Smith\",\n",
    "  \"age\": 25\n",
    "}\n",
    "```"
   ]
  },
  {
   "cell_type": "code",
   "execution_count": null,
   "metadata": {},
   "outputs": [],
   "source": []
  }
 ],
 "metadata": {
  "kernelspec": {
   "display_name": "Python 3",
   "language": "python",
   "name": "python3"
  },
  "language_info": {
   "codemirror_mode": {
    "name": "ipython",
    "version": 3
   },
   "file_extension": ".py",
   "mimetype": "text/x-python",
   "name": "python",
   "nbconvert_exporter": "python",
   "pygments_lexer": "ipython3",
   "version": "3.8.5"
  }
 },
 "nbformat": 4,
 "nbformat_minor": 4
}
