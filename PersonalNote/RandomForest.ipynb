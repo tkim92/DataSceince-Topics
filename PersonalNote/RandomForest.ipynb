{
 "cells": [
  {
   "cell_type": "markdown",
   "metadata": {},
   "source": [
    "# Random Forest"
   ]
  },
  {
   "cell_type": "markdown",
   "metadata": {},
   "source": [
    "## STEPS\n",
    "\n",
    "1. Common Steps (Same as previous ones)\n",
    "\n",
    "2. Modeling\n",
    "    - `from sklearn.ensemble import RandomForestClassifier`\n",
    "\n",
    "3. Predicting\n",
    "    - `model.fit(...)`\n",
    "    - `pred = model.predict(X_test)`\n",
    " \n",
    "4. Evaluation \n",
    "    - from sklearn.metrics import accuracy_score, confusion_matrix\n",
    "    - `accuracy_score(y_test,pred)` --> giving me accuracy of the model. \n",
    "    - **이번 예시의 문제는 outcome 이 balance 하지 않는다는 점**\n",
    "\n",
    "5. Classification report\n",
    "    - from sklearn.metrics import classification_report\n",
    "    - `classfication_report(y_test, pred)` 이렇게 하면 안이쁘게 엉망으로 나옴\n",
    "    - `print(classfication_report(y_test, pred))` 이렇게 print해줘야 보기 좋게 나옴"
   ]
  },
  {
   "cell_type": "markdown",
   "metadata": {},
   "source": [
    "## TIP\n",
    "\n",
    "### Here we use two different datasets. "
   ]
  },
  {
   "cell_type": "markdown",
   "metadata": {},
   "source": [
    "## Python Tips\n",
    "\n",
    "1. Groupby\n",
    "    - Pivot Table 과 매우 흡사 \n",
    "    - `data.groupby()`\n",
    "    - 어떤 기준으로 묶을 것인가? \n",
    "    - 어떤 기준으로 묶은후, 그 묶은 값들에대해 어떤것을 보고싶은것인가? (aggregation) -- sum? mean? \n",
    "    - Want to see all? --> `data.groupby(\"columnName\").describe()`\n",
    "    \n",
    "    \n",
    "2. Changing Index\n",
    "    - `data.set_index(\"Column Name to set as Index\")`\n",
    "    - `data.reset_index()` --> Back to default --> index로 지정되어있는 값들을 Column 으로 뺴준다 생각\n",
    "    - 이것도 알아두면 좋음: `data.reset_index(drop = True)` = `data.drop(\"column name\")`\n",
    "\n",
    "\n",
    "### Data 합치기 \n",
    "\n",
    "1. `pd.concat()`\n",
    "    - **index** 기준\n",
    "    - `df.concat([\"MUST BE LIST\"])`\n",
    "    - 기본적으로 row base로 붙음 (Vertically)\n",
    "    - `df.concat([],  axis = 1` --> Now horizontally put\n",
    "    - *주의할 점은, index가 다르면, NaN 생성됨. index를 통일 시켜줄 필요가 종종 있음*\n",
    "    \n",
    "\n",
    "2. `pd.merge()`\n",
    "    - `pd.merge(df1, df2, on = \"Column in which merging base on\")` --> 말그대로 inner join at SQL\n",
    "    - df1, df2중 on 하는 column value에 **matching이 되는 애들만** 결과값으로 출력. \n",
    "    - 만약에 inner 가 아니라 left join, right join, outer join은?  --> `pd.merge(....., how = \"outer\")`\n",
    "    - 만약에 on할 column name이 다르다면, --> `pd.merge(.....,left_on = \"id\", right_on = \"user_id\")` \n",
    "\n",
    "\n",
    "3. `df.join()`\n",
    "    - default --> **left join**\n",
    "    - **index** 기준\n",
    "    - *how = \"right\"* 이런식으로 설정가능"
   ]
  },
  {
   "cell_type": "code",
   "execution_count": null,
   "metadata": {},
   "outputs": [],
   "source": []
  }
 ],
 "metadata": {
  "kernelspec": {
   "display_name": "Python 3",
   "language": "python",
   "name": "python3"
  },
  "language_info": {
   "codemirror_mode": {
    "name": "ipython",
    "version": 3
   },
   "file_extension": ".py",
   "mimetype": "text/x-python",
   "name": "python",
   "nbconvert_exporter": "python",
   "pygments_lexer": "ipython3",
   "version": "3.8.8"
  }
 },
 "nbformat": 4,
 "nbformat_minor": 4
}
