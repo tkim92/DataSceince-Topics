{
 "cells": [
  {
   "cell_type": "markdown",
   "metadata": {},
   "source": [
    "# Logistic Regression"
   ]
  },
  {
   "cell_type": "markdown",
   "metadata": {},
   "source": [
    "## STEPS\n",
    "\n",
    "1. General information about the data\n",
    "    - `data.info()`\n",
    "    - See if there is any missing values!\n",
    "2. Descritive Statistics of the data\n",
    "    - `data.describe()`\n",
    "3. See entire picture of the data \n",
    "    - Also, try to look at distribution of some variables\n",
    "    - `sns.displot(data['name of variable you want to see']`\n",
    "4. Check and Drop unneccesary Coulmns\n",
    "    - For Categorical variables\n",
    "        - `data['Column1'].nunique()` --> how many unique value in this column? 다시 말해, 이 variable안에 고유값이 얼마나 있느냐를 물어보는것\n",
    "\n",
    "    - **Checking with missing value**\n",
    "        - `data.isna()` --> missing value 맞냐 아니냐? \n",
    "        - `data.isna().sum()` --> 해당 column의 True의 개수를 합쳐서 나타내어줌 \n",
    "        - `data.inna().sum() / len(data)` --> 각 column별 True 개수의 비율 \n",
    "    - **Dealing with missing value**\n",
    "        1. Drop rows with missing values\n",
    "            - `data.dropna()` --> it's not *mutable*. \n",
    "            - `data.dropna(inplace = True)` --> make it *mutable*. 기존의 data를 dropna 한걸로 replace 해준다는것. \n",
    "        2. Fill up the missing values\n",
    "            - `data.fillna(round(data['Age'].mean()))`\n",
    "            - 개인적으론 mean/median을 선호함. 다른 knn/regression등을 통해서도 가능하지만, 필요로하는 수고로움에 비해 결과값이 월등히 뛰어나는 경우는 많지않음. 그럴바엔 차라리 간단하고 직관적인것으로 진행. \n",
    "            - 어떻게 처리하느냐는 각 field의 대한 background  등의 정보에 따라 달라짐\n",
    "5. Train/Test Set Split\n",
    "    - 여기서 먼저, 각각 X,Y에 어떤 variables 들을 사용할건지 선택해야함  --> **feature selection**\n",
    "    - `X_train, X_test, y_train, y_test = train_test_split(X, y, test_size = 0.2, random_state = 100)`\n",
    "    - Same as Linear Regression\n",
    "6. Start Modeling\n",
    "     > sklearn vs statsmodels ---> sklearn은 y-intercept을 default로 포함, statmodel은 no\n",
    "    - > **sklearn 은 xtrain 먼저, sm은 y_train 먼저**\n",
    "    - **Fast Campus uses following codes**\n",
    "    - `from sklearn.linear_model import LogisticRegression`\n",
    "    - `model = LogisticRegression()`\n",
    "    - `model.fit(X_train, y_train)`\n",
    "7. Prediction\n",
    "    - `pred = model.predict(X_text)`\n",
    "8. Evaluation\n",
    "    - **Confusion Matrix**\n",
    "    - `from sklearn.metrics import accuracy_score, confusion_matrix`\n",
    "    - `accuracy_score(y_test, pred)` --> Accuracy of the model\n",
    "    - `confusion_matrix(y_test, pred)` --> entire confusion matrix"
   ]
  },
  {
   "cell_type": "markdown",
   "metadata": {},
   "source": [
    "# Python Tips\n",
    "\n",
    "\n",
    "1. `data.nunique()` --> return number of unique text\n",
    "2. `data.unique()` --> return each unique text\n",
    "3. `data.value_counts()` --> return number of counts on each unique text\n",
    "    "
   ]
  },
  {
   "cell_type": "markdown",
   "metadata": {},
   "source": [
    "# Theory and Definition"
   ]
  },
  {
   "cell_type": "markdown",
   "metadata": {},
   "source": [
    "1. Confusion Matrix\n",
    "    - **TN (True Negative)**: 우리가 Negative 한걸 True 하게 짚어냈다 \n",
    "    - **FP (False Positive)**: 우리가 Positive 하다고 False하게 짚어냈다\n",
    "    - **FN (False Natative)**: 우리가 Nagative한걸 False하게 짚어냈다\n",
    "    - **TP (True Positive)**: 우리가 Positive한걸 True 하게 짚어냈다.\n",
    "    \n",
    "**예2)**  \n",
    "   1. 병원에서 암진단을함 \n",
    "   2. FP = 암이라고 진단했는데 실은 암이 아닌경우\n",
    "   3. FN = 암이 아니라고 진단했는데 실은 암인 경우\n",
    "   4. **FN** 이 훨씬 심각함 --> 암인줄알고 치료받는데 암이아니면 뭐 다행이지만, 암 아닌줄알고 방치해뒀다가 후에 증상 심해질떄 재발견하면.. ㅎㄷㄷ\n",
    "   5. 이럴떈 FN을 더 sensitive하게 조절해야함\n",
    "    \n",
    "    \n",
    "**예2)**\n",
    "   1. 광고비용이 1인 대상당 100만원 소요 \n",
    "   2. FP = 광고에 응답한다고 진단했는데 실은 응답을 안한경우\n",
    "   3. FN = 광고에 응답안한다고 진단했는데 실은 응답을 할경우\n",
    "   4. **FP** 이 더 심각함 --> 최소한 FN의경우 쌩돈은 안날림. 하지만 FP는 썡돈도 날리고 고객도 반응없음.\n",
    "   5. 이럴떈 FP를 더 sensitive하게 조절"
   ]
  },
  {
   "cell_type": "code",
   "execution_count": null,
   "metadata": {},
   "outputs": [],
   "source": []
  }
 ],
 "metadata": {
  "kernelspec": {
   "display_name": "Python 3",
   "language": "python",
   "name": "python3"
  },
  "language_info": {
   "codemirror_mode": {
    "name": "ipython",
    "version": 3
   },
   "file_extension": ".py",
   "mimetype": "text/x-python",
   "name": "python",
   "nbconvert_exporter": "python",
   "pygments_lexer": "ipython3",
   "version": "3.8.8"
  }
 },
 "nbformat": 4,
 "nbformat_minor": 4
}
