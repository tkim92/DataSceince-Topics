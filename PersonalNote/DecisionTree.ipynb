{
 "cells": [
  {
   "cell_type": "markdown",
   "metadata": {},
   "source": [
    "# Decision Tree"
   ]
  },
  {
   "cell_type": "markdown",
   "metadata": {},
   "source": [
    "## STEPS\n",
    "1. General Information about the data\n",
    "2. Describtive Statistics of the data\n",
    "3. See entire picture\n",
    "4. Unnecessary Columns (Variables)?\n",
    "    - Missing Values\n",
    "        - Columns with Missing Values contain **TEXT**\n",
    "            - 하나의 text로 변환 가능 --> *예) NaN --> 'Unknown'*\n",
    "    - Outliers\n",
    "5. Train/Test Set Split\n",
    "6. Start Modeling\n",
    "    - `from sklearn.tree import DecisionTreeClassifier`\n",
    "    - `model = DecisionTreeClassifier(max_depth = 10)`\n",
    "    - `model.fit(X_train, y_train)`\n",
    "7. Parameter tuning \n",
    "    - Use for loop to determine the number of nodes in which returns highest accuracy score. \n",
    "8. re-run with chosen parameter\n",
    "9. Evaluation\n",
    "    \n",
    "    "
   ]
  },
  {
   "cell_type": "markdown",
   "metadata": {},
   "source": [
    "## Python Tip\n",
    "\n",
    "### Lambda\n",
    "\n",
    "`data['name of column'].apply(lambda x: function(x))`\n",
    "이거 매우 유용하게 쓰임. \n",
    "lambda 는 항상 바로바로 쓸수있도록 익혀둘것"
   ]
  },
  {
   "cell_type": "markdown",
   "metadata": {},
   "source": [
    "## Tree Plot Visualization\n",
    "\n",
    "1. `from sklearn.tree import plot_tree`\n",
    "2. `plt.figure(figsize=(20,10))`\n",
    "3. `plot_tree(model, feature_names=X_train.columns, fontsize=15, label =\"None\", max_depth = 2)`"
   ]
  },
  {
   "cell_type": "code",
   "execution_count": 3,
   "metadata": {},
   "outputs": [
    {
     "name": "stdout",
     "output_type": "stream",
     "text": [
      "a\n",
      "hihi\n"
     ]
    }
   ],
   "source": [
    "num = 5\n",
    "if num > 0:\n",
    "    print(\"a\")\n",
    "if num == 0:\n",
    "    print(\"000\")\n",
    "else:\n",
    "    print(\"hihi\")"
   ]
  },
  {
   "cell_type": "code",
   "execution_count": null,
   "metadata": {},
   "outputs": [],
   "source": []
  }
 ],
 "metadata": {
  "kernelspec": {
   "display_name": "Python 3",
   "language": "python",
   "name": "python3"
  },
  "language_info": {
   "codemirror_mode": {
    "name": "ipython",
    "version": 3
   },
   "file_extension": ".py",
   "mimetype": "text/x-python",
   "name": "python",
   "nbconvert_exporter": "python",
   "pygments_lexer": "ipython3",
   "version": "3.8.5"
  }
 },
 "nbformat": 4,
 "nbformat_minor": 4
}
